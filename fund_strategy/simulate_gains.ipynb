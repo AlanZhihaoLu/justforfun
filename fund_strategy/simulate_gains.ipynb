{
 "cells": [
  {
   "cell_type": "code",
   "execution_count": 268,
   "id": "optional-output",
   "metadata": {},
   "outputs": [],
   "source": [
    "import numpy as np\n",
    "import math"
   ]
  },
  {
   "cell_type": "code",
   "execution_count": 269,
   "id": "legitimate-topic",
   "metadata": {},
   "outputs": [],
   "source": [
    "# Get benchmark data (e.g., S&P500, NASDAQ, etc.)\n",
    "# time course of the index, in days\n",
    "timeline = 5*365\n",
    "# Get percentage increase in this time course\n",
    "perc_inc = 82.09\n",
    "# Calculate percentage increase, on average, every day\n",
    "daily_inc_multiplier = (1+(perc_inc/100)) ** (1/timeline)"
   ]
  },
  {
   "cell_type": "code",
   "execution_count": 270,
   "id": "nuclear-matthew",
   "metadata": {},
   "outputs": [],
   "source": [
    "# Define wallet class\n",
    "class wallet:\n",
    "    def __init__(self, cash):\n",
    "        self.cash = cash\n",
    "        self.stock_qty = 0\n",
    "    def __str__(self):\n",
    "        return f'Cash: {self.cash}\\nStock Quantity: {self.stock_qty}'\n",
    "    def buy(self, stock_price, qty):\n",
    "        if qty*stock_price - self.cash > 1e-10 :\n",
    "        # if qty*stock_price > self.cash:\n",
    "            raise ValueError('You don\\'t have enough cash to purchase this quantity of stock!')\n",
    "        else:\n",
    "            self.stock_qty += qty\n",
    "            self.cash -= (qty*stock_price)\n",
    "    def sell(self, stock_price, qty):\n",
    "        if qty > self.stock_qty:\n",
    "            raise ValueError('You don\\'t have that much quantity of stock to sell!')\n",
    "        else:\n",
    "            self.stock_qty -= qty\n",
    "            self.cash += (qty*stock_price)"
   ]
  },
  {
   "cell_type": "code",
   "execution_count": 271,
   "id": "bound-border",
   "metadata": {},
   "outputs": [],
   "source": [
    "def simulate(t0, daily_inc_multiplier, variance):\n",
    "    return t0*(daily_inc_multiplier*np.random.normal(loc=1.0, scale=variance, size=None))\n",
    "def report_results(gains, number_of_days):\n",
    "    print(f'Gains: {np.mean(gains)}\\nTime: {np.mean(number_of_days)}')"
   ]
  },
  {
   "cell_type": "code",
   "execution_count": 272,
   "id": "extreme-liberty",
   "metadata": {},
   "outputs": [
    {
     "name": "stdout",
     "output_type": "stream",
     "text": [
      "Gains: 3.5691585577715115\n",
      "Time: 216.6329\n"
     ]
    }
   ],
   "source": [
    "n_runs = 10000\n",
    "gains = np.zeros(n_runs)\n",
    "number_of_days = np.zeros(n_runs)\n",
    "start_wallet = 1000\n",
    "buy_increments = 10\n",
    "for i in range(n_runs):\n",
    "    acct = wallet(start_wallet)\n",
    "    t0 = 1\n",
    "    n_days = 0\n",
    "    while acct.cash > 0:\n",
    "        t1 = simulate(t0, daily_inc_multiplier, 0.0025)\n",
    "        if t1 < t0:\n",
    "            try:\n",
    "                acct.buy(t1, buy_increments)\n",
    "            except ValueError:\n",
    "                acct.buy(t1, acct.cash/t1)\n",
    "        t0 = t1\n",
    "        n_days += 1\n",
    "    acct.sell(t0, acct.stock_qty)\n",
    "    gains[i] = ((acct.cash - start_wallet)/start_wallet)*100\n",
    "    number_of_days[i] = n_days\n",
    "report_results(gains, number_of_days)"
   ]
  },
  {
   "cell_type": "code",
   "execution_count": 273,
   "id": "continuous-problem",
   "metadata": {},
   "outputs": [
    {
     "name": "stdout",
     "output_type": "stream",
     "text": [
      "Gains: 7.4272190151343445\n",
      "Time: 216.0\n"
     ]
    }
   ],
   "source": [
    "n_runs = 10000\n",
    "gains = np.zeros(n_runs)\n",
    "start_wallet = 1000\n",
    "for i in range(n_runs):\n",
    "    acct = wallet(start_wallet)\n",
    "    t0 = 1\n",
    "    acct.buy(t0, acct.cash/t0)\n",
    "    for day in range(int(np.mean(number_of_days))):\n",
    "        t0 = simulate(t0, daily_inc_multiplier, 0.0025)\n",
    "    acct.sell(t0, acct.stock_qty)\n",
    "    gains[i] = ((acct.cash - start_wallet)/start_wallet)*100\n",
    "report_results(gains, int(np.mean(number_of_days)))"
   ]
  }
 ],
 "metadata": {
  "kernelspec": {
   "display_name": "Python 3 (ipykernel)",
   "language": "python",
   "name": "python3"
  },
  "language_info": {
   "codemirror_mode": {
    "name": "ipython",
    "version": 3
   },
   "file_extension": ".py",
   "mimetype": "text/x-python",
   "name": "python",
   "nbconvert_exporter": "python",
   "pygments_lexer": "ipython3",
   "version": "3.9.7"
  }
 },
 "nbformat": 4,
 "nbformat_minor": 5
}
