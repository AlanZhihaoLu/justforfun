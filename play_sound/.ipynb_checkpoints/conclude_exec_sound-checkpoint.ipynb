{
 "cells": [
  {
   "cell_type": "code",
   "execution_count": 1,
   "id": "palestinian-exclusion",
   "metadata": {},
   "outputs": [],
   "source": [
    "from playsound import playsound\n",
    "import time\n",
    "import threading\n",
    "import logging"
   ]
  },
  {
   "cell_type": "code",
   "execution_count": 19,
   "id": "c80ca905-08ae-4540-bed7-6c28eef13092",
   "metadata": {},
   "outputs": [],
   "source": [
    "class load_music:\n",
    "    def __init__(self, song, bpm, end_func, stagger_beats=2):\n",
    "        self.song = song\n",
    "        self.bpm = bpm\n",
    "        if not end_func:\n",
    "            self.beats2end_func(int(input('How many beats into the song? Answer: ')))\n",
    "        else:\n",
    "            self.end_func = end_func\n",
    "        self.stagger_beats = stagger_beats\n",
    "        self.success_messages = ['YOU DID IT',\n",
    "                                 'YOUR CODE RUNS PERFECTLY',\n",
    "                                 'AN UTTERLY FLAWLESS VICTORY',\n",
    "                                 'WOW',\n",
    "                                 'NARY AN ERROR IN SIGHT',\n",
    "                                 'INCREDIBLE',\n",
    "                                 'ONLY YOU COULD HAVE DONE IT',\n",
    "                                 'IN FACT',\n",
    "                                 'NO ONE WILL EVER BE AS GOOD AS YOU',\n",
    "                                 'THE BARDS ACROSS THE LANDS SING OF YOUR GLORIOUS VICTORIES',\n",
    "                                 'YOU ARE A VERITABLE MASTER OF THE CODE',\n",
    "                                 'I AM IN AWE OF YOU',\n",
    "                                 'TRULY AMAZING',\n",
    "                                 'YOU DID THE IMPOSSIBLE',\n",
    "                                 'YOU CAN DO ANYTHING',\n",
    "                                 'AND THE WORLD IS YOUR OYSTER',\n",
    "                                 'NOW GET YOURSELF A COOKIE OR SOMETHING',\n",
    "                                 'YOU DESERVE IT']\n",
    "        self.fail_messages = ['SO BAD NEWS',\n",
    "                              'IT DIDN\\'T WORK',\n",
    "                              'YOUR CODE, I MEAN',\n",
    "                              'PROBABLY A SMALL BUG',\n",
    "                              'BUT DON\\'T WORRY',\n",
    "                              'IT HAPPENS TO THE BEST OF US',\n",
    "                              'IN FACT',\n",
    "                              'YOU STILL GOT THIS',\n",
    "                              'YOU CAN DO IT',\n",
    "                              'BECAUSE YOU\\'RE THE SMARTEST PERSON I KNOW',\n",
    "                              'YUP',\n",
    "                              'FOR SURE',\n",
    "                              '',\n",
    "                              'ANYWAYS',\n",
    "                              'I FIGURED YOU MIGHT WANT TO SEE THE ERROR MESSAGE',\n",
    "                              'SO UH',\n",
    "                              'HERE YOU GO']\n",
    "    def __repr__(self):\n",
    "        return f'load_music(song={self.song},bpm={self.bpm},end_func={self.end_func},stagger_beats={self.stagger_beats})\\n.success_messages={self.success_messages}\\n.fail_messages={self.fail_messages}'\n",
    "    def beats2end_func(self,beats):\n",
    "        self.end_func = beats*(60/self.bpm)\n",
    "        print(f'Hype starts at {self.end_func} seconds.')\n",
    "    def cue_song(self):\n",
    "        threading.Thread(target=playsound, args=(self.song,), daemon=True).start()\n",
    "    def stagger_message(self, message, sleeptime):\n",
    "        print(message)\n",
    "        time.sleep(sleeptime)\n",
    "    def hit_it(self,func,*args,**kwargs):\n",
    "        logger = logging.getLogger()\n",
    "        stagger_time = self.stagger_beats * (60/self.bpm)\n",
    "        t0 = time.perf_counter()\n",
    "        self.cue_song()\n",
    "        try:\n",
    "            output = func(*args, **kwargs)\n",
    "        except Exception as e:\n",
    "            time.sleep(self.end_func - (time.perf_counter() - t0))\n",
    "            for i in range(len(self.fail_messages)):\n",
    "                if not self.fail_messages[i]:\n",
    "                    time.sleep(stagger_time)\n",
    "                else:\n",
    "                    self.stagger_message(self.fail_messages[i], stagger_time)\n",
    "            logger.exception(e, exc_info=True)\n",
    "        else:\n",
    "            time.sleep(self.end_func - (time.perf_counter() - t0))\n",
    "            for i in range(len(self.success_messages)):\n",
    "                if not self.success_messages[i]:\n",
    "                    time.sleep(stagger_time)\n",
    "                self.stagger_message(self.success_messages[i], stagger_time)\n",
    "            return output\n",
    "    def wrap_it(self,func,*args,**kwargs):\n",
    "        def wrapper(*args, **kwargs):\n",
    "            self.hit_it(func,*args,**kwargs)\n",
    "        return wrapper\n",
    "    def oneplusone(self, trip_error=False):\n",
    "        if trip_error:\n",
    "            raise ValueError\n",
    "        else:\n",
    "            return 2\n",
    "        "
   ]
  },
  {
   "cell_type": "code",
   "execution_count": 20,
   "id": "6e8f8193-31e2-4cef-9a8a-c0a9358f3e84",
   "metadata": {},
   "outputs": [],
   "source": [
    "silver_scrapes = load_music('silver_scrapes_edit.mp3',140,13.2857142857)"
   ]
  },
  {
   "cell_type": "code",
   "execution_count": 124,
   "id": "a1b62a2f-f2c3-4f9c-8f96-884f035e528b",
   "metadata": {},
   "outputs": [
    {
     "name": "stdin",
     "output_type": "stream",
     "text": [
      "How many beats into the song? Answer:  31\n"
     ]
    },
    {
     "name": "stdout",
     "output_type": "stream",
     "text": [
      "Hype starts at 13.285714285714285 seconds.\n"
     ]
    }
   ],
   "source": [
    "silver_scrapes = load_music('silver_scrapes_edit.mp3',140,False)"
   ]
  },
  {
   "cell_type": "code",
   "execution_count": 120,
   "id": "b8f035ae-92a6-4ccf-bb96-24ef934b1419",
   "metadata": {},
   "outputs": [],
   "source": [
    "wrapped_silver_scrapes = silver_scrapes.wrap_it(get_add)"
   ]
  },
  {
   "cell_type": "code",
   "execution_count": 121,
   "id": "b3746c97-7db7-4b04-bb08-9f912f87bd7a",
   "metadata": {},
   "outputs": [
    {
     "name": "stdout",
     "output_type": "stream",
     "text": [
      "Truly an extraordinary problem.\n",
      "To solve it would be a momentous occasion indeed.\n",
      "Will your program be able to do it?\n",
      "Have faith.\n",
      "We shall soon see.\n",
      "\n",
      "SO BAD NEWS\n",
      "IT DIDN'T WORK\n",
      "YOUR CODE, I MEAN\n",
      "PROBABLY A SMALL BUG\n",
      "BUT DON'T WORRY\n",
      "IT HAPPENS TO THE BEST OF US\n",
      "IN FACT\n",
      "YOU STILL GOT THIS\n",
      "YOU CAN DO IT\n",
      "BECAUSE YOU'RE THE SMARTEST PERSON I KNOW\n",
      "YUP\n",
      "FOR SURE\n",
      "ANYWAYS\n",
      "I FIGURED YOU MIGHT WANT TO SEE THE ERROR MESSAGE\n",
      "SO UH\n",
      "HERE YOU GO\n"
     ]
    },
    {
     "name": "stderr",
     "output_type": "stream",
     "text": [
      "\n",
      "Traceback (most recent call last):\n",
      "  File \"/var/folders/mp/x3vksdzs01bg2yjtlr3rr1h40000gn/T/ipykernel_73327/1384222611.py\", line 72, in hit_it\n",
      "    output = func(*args, **kwargs)\n",
      "  File \"/var/folders/mp/x3vksdzs01bg2yjtlr3rr1h40000gn/T/ipykernel_73327/718721674.py\", line 3, in get_add\n",
      "    raise ValueError\n",
      "ValueError\n"
     ]
    }
   ],
   "source": [
    "wrapped_silver_scrapes(1,2,True)"
   ]
  },
  {
   "cell_type": "code",
   "execution_count": 11,
   "id": "ead0d838-cc1e-4683-83ba-c5811f0a75c0",
   "metadata": {},
   "outputs": [
    {
     "name": "stdout",
     "output_type": "stream",
     "text": [
      "YOU DID IT\n",
      "YOUR CODE RUNS PERFECTLY\n",
      "AN UTTERLY FLAWLESS VICTORY\n",
      "WOW\n",
      "NARY AN ERROR IN SIGHT\n",
      "INCREDIBLE\n",
      "ONLY YOU COULD HAVE DONE IT\n",
      "IN FACT\n",
      "NO ONE WILL EVER BE AS GOOD AS YOU\n",
      "THE BARDS ACROSS THE LANDS SING OF YOUR GLORIOUS VICTORIES\n",
      "YOU ARE A VERITABLE MASTER OF THE CODE\n",
      "TRULY AMAZING\n",
      "I AM IN AWE OF YOU\n",
      "YOU DID THE IMPOSSIBLE\n",
      "YOU CAN DO ANYTHING\n",
      "AND THE WORLD IS YOUR OYSTER\n",
      "NOW GET YOURSELF A COOKIE OR SOMETHING\n",
      "YOU DESERVE IT\n"
     ]
    },
    {
     "data": {
      "text/plain": [
       "10"
      ]
     },
     "execution_count": 11,
     "metadata": {},
     "output_type": "execute_result"
    }
   ],
   "source": [
    "silver_scrapes.hit_it(get_add, 5, 5)"
   ]
  },
  {
   "cell_type": "code",
   "execution_count": 24,
   "id": "ec9ade7b-842b-4599-b148-89999aecd249",
   "metadata": {},
   "outputs": [],
   "source": [
    "end_func = 13.2857142857\n",
    "\n",
    "bpm = 140\n",
    "stagger_beats = 2\n",
    "spb = 60/bpm\n",
    "stagger_time = stagger_beats * spb\n",
    "\n",
    "def cue_song(song):\n",
    "    threading.Thread(target=playsound, args=(song,), daemon=True).start()\n",
    "def stagger_message(message,sleeptime):\n",
    "    print(message)\n",
    "    time.sleep(sleeptime)"
   ]
  },
  {
   "cell_type": "code",
   "execution_count": 28,
   "id": "a7c9bac6-ed36-44f7-89c3-1132295b8a13",
   "metadata": {},
   "outputs": [],
   "source": [
    "def conclude_exec_sound(func,song,end_func,stagger_time=1):\n",
    "    def wrapper(*args, **kwargs):\n",
    "        t0 = time.perf_counter()\n",
    "        cue_song(song)\n",
    "        try:\n",
    "            output = func(*args, **kwargs)\n",
    "        except Exception as e:\n",
    "            time.sleep(end_func - (time.perf_counter() - t0))\n",
    "            stagger_message('SO BAD NEWS',stagger_time)\n",
    "            stagger_message('IT DIDN\\'T WORK',stagger_time)\n",
    "            stagger_message('YOUR CODE, I MEAN',stagger_time)\n",
    "            stagger_message('PROBABLY A SMALL BUG',stagger_time)\n",
    "            stagger_message('BUT DON\\'T WORRY',stagger_time)\n",
    "            stagger_message('IT HAPPENS TO THE BEST OF US',stagger_time)\n",
    "            stagger_message('IN FACT',stagger_time)\n",
    "            stagger_message('YOU STILL GOT THIS',stagger_time)\n",
    "            stagger_message('YOU CAN DO IT',stagger_time)\n",
    "            stagger_message('BECAUSE YOU\\'RE THE SMARTEST PERSON I KNOW',stagger_time)\n",
    "            stagger_message('YUP',stagger_time)\n",
    "            stagger_message('FOR SURE',2*stagger_time)\n",
    "            stagger_message('ANYWAYS',stagger_time)\n",
    "            stagger_message('I FIGURED YOU MIGHT WANT TO SEE THE ERROR MESSAGE',stagger_time)\n",
    "            stagger_message('SO UH',stagger_time)\n",
    "            stagger_message('HERE YOU GO',stagger_time)\n",
    "            logger.exception(e, exc_info=True)\n",
    "        else: \n",
    "            time.sleep(end_func - (time.perf_counter() - t0))\n",
    "            stagger_message('YOU DID IT',stagger_time)\n",
    "            stagger_message('YOUR CODE RUNS PERFECTLY',stagger_time)\n",
    "            stagger_message('AN UTTERLY FLAWLESS VICTORY',stagger_time)\n",
    "            stagger_message('YOU\\'RE AMAZING',stagger_time)\n",
    "            stagger_message('NO ONE WILL EVER BE AS GOOD AS YOU',stagger_time)\n",
    "            stagger_message('THE BARDS ACROSS THE LANDS SING OF YOUR GLORIOUS VICTORIES',stagger_time)\n",
    "            stagger_message('YOU ARE A MASTER OF THE CODE',stagger_time)\n",
    "            stagger_message('TRULY INCREDIBLE',stagger_time)\n",
    "            stagger_message('I AM IN AWE OF YOU',stagger_time)\n",
    "            return output\n",
    "    return wrapper"
   ]
  },
  {
   "cell_type": "code",
   "execution_count": 5,
   "id": "21c27efa-6b1b-4962-9c17-4fefff654cab",
   "metadata": {},
   "outputs": [],
   "source": [
    "def get_add(n,m,trip_error = False):\n",
    "    if trip_error:\n",
    "        raise ValueError\n",
    "    return n+m"
   ]
  },
  {
   "cell_type": "code",
   "execution_count": 30,
   "id": "8c5293e5-b236-4d5e-a079-83cc178e5eab",
   "metadata": {},
   "outputs": [
    {
     "ename": "NameError",
     "evalue": "name 'conclude_exec_sound' is not defined",
     "output_type": "error",
     "traceback": [
      "\u001b[0;31m---------------------------------------------------------------------------\u001b[0m",
      "\u001b[0;31mNameError\u001b[0m                                 Traceback (most recent call last)",
      "\u001b[0;32m/var/folders/mp/x3vksdzs01bg2yjtlr3rr1h40000gn/T/ipykernel_73327/3003827019.py\u001b[0m in \u001b[0;36m<module>\u001b[0;34m\u001b[0m\n\u001b[0;32m----> 1\u001b[0;31m \u001b[0mtest\u001b[0m \u001b[0;34m=\u001b[0m \u001b[0mconclude_exec_sound\u001b[0m\u001b[0;34m(\u001b[0m\u001b[0mget_add\u001b[0m\u001b[0;34m,\u001b[0m \u001b[0;34m'silver_scrapes_edit.mp3'\u001b[0m\u001b[0;34m,\u001b[0m \u001b[0mend_func\u001b[0m\u001b[0;34m,\u001b[0m \u001b[0mstagger_time\u001b[0m\u001b[0;34m)\u001b[0m\u001b[0;34m\u001b[0m\u001b[0;34m\u001b[0m\u001b[0m\n\u001b[0m",
      "\u001b[0;31mNameError\u001b[0m: name 'conclude_exec_sound' is not defined"
     ]
    }
   ],
   "source": [
    "test = conclude_exec_sound(get_add, 'silver_scrapes_edit.mp3', end_func, stagger_time)"
   ]
  },
  {
   "cell_type": "code",
   "execution_count": 98,
   "id": "f048ab33-a542-4786-bfd4-a7de10b8c63c",
   "metadata": {},
   "outputs": [
    {
     "name": "stdout",
     "output_type": "stream",
     "text": [
      "YOU DID IT\n",
      "YOUR CODE RUNS PERFECTLY\n",
      "AN UTTERLY FLAWLESS VICTORY\n",
      "YOU'RE AMAZING\n",
      "NO ONE WILL EVER BE AS GOOD AS YOU\n",
      "THE BARDS ACROSS THE LANDS SING OF YOUR GLORIOUS VICTORIES\n",
      "YOU ARE A MASTER OF THE CODE\n",
      "TRULY INCREDIBLE\n",
      "I AM IN AWE OF YOU\n"
     ]
    }
   ],
   "source": [
    "test1 = test(2,3)"
   ]
  },
  {
   "cell_type": "code",
   "execution_count": 32,
   "id": "486d695a-8843-438b-abba-0d54b23fc068",
   "metadata": {},
   "outputs": [
    {
     "name": "stdout",
     "output_type": "stream",
     "text": [
      "SO BAD NEWS\n",
      "IT DIDN'T WORK\n",
      "YOUR CODE, I MEAN\n",
      "PROBABLY A SMALL BUG\n",
      "BUT DON'T WORRY\n",
      "IT HAPPENS TO THE BEST OF US\n",
      "IN FACT\n",
      "YOU STILL GOT THIS\n",
      "YOU CAN DO IT\n",
      "BECAUSE YOU'RE THE SMARTEST PERSON I KNOW\n",
      "YUP\n",
      "FOR SURE\n",
      "ANYWAYS\n",
      "I FIGURED YOU MIGHT WANT TO SEE THE ERROR MESSAGE\n",
      "SO UH\n",
      "HERE YOU GO\n"
     ]
    },
    {
     "name": "stderr",
     "output_type": "stream",
     "text": [
      "\n",
      "Traceback (most recent call last):\n",
      "  File \"/var/folders/mp/x3vksdzs01bg2yjtlr3rr1h40000gn/T/ipykernel_34365/1231215162.py\", line 6, in wrapper\n",
      "    output = func(*args, **kwargs)\n",
      "  File \"/var/folders/mp/x3vksdzs01bg2yjtlr3rr1h40000gn/T/ipykernel_34365/718721674.py\", line 3, in get_add\n",
      "    raise ValueError\n",
      "ValueError\n"
     ]
    }
   ],
   "source": [
    "test2 = test(2,3,True)"
   ]
  },
  {
   "cell_type": "code",
   "execution_count": null,
   "id": "449d986f-3a4a-4bbf-be4c-e4a62a933e32",
   "metadata": {},
   "outputs": [],
   "source": [
    "# Version with build up messages\n",
    "class load_music:\n",
    "    def __init__(self, song, bpm, end_func, stagger_beats=2):\n",
    "        self.song = song\n",
    "        self.bpm = bpm\n",
    "        if not end_func:\n",
    "            self.beats2end_func(int(input('How many beats into the song? Answer: ')))\n",
    "        else:\n",
    "            self.end_func = end_func\n",
    "        self.stagger_beats = stagger_beats\n",
    "        self.build_up_beats = stagger_beats * 2\n",
    "        self.build_up_messages = ['Truly an extraordinary problem.', \n",
    "                                  'To solve it would be a momentous occasion indeed.', \n",
    "                                  'Will your program be able to do it?', \n",
    "                                  'Have faith.','We shall soon see.\\n']\n",
    "        self.success_messages = ['YOU DID IT',\n",
    "                                 'YOUR CODE RUNS PERFECTLY',\n",
    "                                 'AN UTTERLY FLAWLESS VICTORY',\n",
    "                                 'WOW',\n",
    "                                 'NARY AN ERROR IN SIGHT',\n",
    "                                 'INCREDIBLE',\n",
    "                                 'ONLY YOU COULD HAVE DONE IT',\n",
    "                                 'IN FACT',\n",
    "                                 'NO ONE WILL EVER BE AS GOOD AS YOU',\n",
    "                                 'THE BARDS ACROSS THE LANDS SING OF YOUR GLORIOUS VICTORIES',\n",
    "                                 'YOU ARE A VERITABLE MASTER OF THE CODE',\n",
    "                                 'TRULY AMAZING',\n",
    "                                 'I AM IN AWE OF YOU',\n",
    "                                 'YOU DID THE IMPOSSIBLE',\n",
    "                                 'YOU CAN DO ANYTHING',\n",
    "                                 'AND THE WORLD IS YOUR OYSTER',\n",
    "                                 'NOW GET YOURSELF A COOKIE OR SOMETHING',\n",
    "                                 'YOU DESERVE IT']\n",
    "        self.fail_messages = ['SO BAD NEWS',\n",
    "                              'IT DIDN\\'T WORK',\n",
    "                              'YOUR CODE, I MEAN',\n",
    "                              'PROBABLY A SMALL BUG',\n",
    "                              'BUT DON\\'T WORRY',\n",
    "                              'IT HAPPENS TO THE BEST OF US',\n",
    "                              'IN FACT',\n",
    "                              'YOU STILL GOT THIS',\n",
    "                              'YOU CAN DO IT',\n",
    "                              'BECAUSE YOU\\'RE THE SMARTEST PERSON I KNOW',\n",
    "                              'YUP',\n",
    "                              'FOR SURE',\n",
    "                              '',\n",
    "                              'ANYWAYS',\n",
    "                              'I FIGURED YOU MIGHT WANT TO SEE THE ERROR MESSAGE',\n",
    "                              'SO UH',\n",
    "                              'HERE YOU GO']\n",
    "    def beats2end_func(self,beats):\n",
    "        self.end_func = beats*(60/self.bpm)\n",
    "        print(f'Hype starts at {self.end_func} seconds.')\n",
    "    def cue_song(self):\n",
    "        threading.Thread(target=playsound, args=(self.song,), daemon=True).start()\n",
    "    def stagger_message(self, message, sleeptime):\n",
    "        print(message)\n",
    "        time.sleep(sleeptime)\n",
    "    def print_build_up_messages(self, stagger_time):\n",
    "        for i in range(len(self.build_up_messages)):\n",
    "            if not self.build_up_messages[i]:\n",
    "                time.sleep(stagger_time)\n",
    "            else:\n",
    "                self.stagger_message(self.build_up_messages[i], stagger_time)\n",
    "    def hit_it(self,func,*args,**kwargs):\n",
    "        logger = logging.getLogger()\n",
    "        stagger_time = self.stagger_beats * (60/self.bpm)\n",
    "        build_up_time = self.build_up_beats * (60/self.bpm)\n",
    "        t0 = time.perf_counter()\n",
    "        self.cue_song()\n",
    "        threading.Thread(target=self.print_build_up_messages, args=(build_up_time,), daemon=True).start()\n",
    "        try:\n",
    "            output = func(*args, **kwargs)\n",
    "        except Exception as e:\n",
    "            time.sleep(self.end_func - (time.perf_counter() - t0))\n",
    "            for i in range(len(self.fail_messages)):\n",
    "                if not self.fail_messages[i]:\n",
    "                    time.sleep(stagger_time)\n",
    "                else:\n",
    "                    self.stagger_message(self.fail_messages[i], stagger_time)\n",
    "            logger.exception(e, exc_info=True)\n",
    "        else:\n",
    "            time.sleep(self.end_func - (time.perf_counter() - t0))\n",
    "            for i in range(len(self.success_messages)):\n",
    "                if not self.success_messages[i]:\n",
    "                    time.sleep(stagger_time)\n",
    "                self.stagger_message(self.success_messages[i], stagger_time)\n",
    "            return output\n",
    "    def wrap_it(self,func,*args,**kwargs):\n",
    "        def wrapper(*args, **kwargs):\n",
    "            self.hit_it(func,*args,**kwargs)\n",
    "        return wrapper"
   ]
  }
 ],
 "metadata": {
  "kernelspec": {
   "display_name": "Python 3 (ipykernel)",
   "language": "python",
   "name": "python3"
  },
  "language_info": {
   "codemirror_mode": {
    "name": "ipython",
    "version": 3
   },
   "file_extension": ".py",
   "mimetype": "text/x-python",
   "name": "python",
   "nbconvert_exporter": "python",
   "pygments_lexer": "ipython3",
   "version": "3.9.7"
  }
 },
 "nbformat": 4,
 "nbformat_minor": 5
}
